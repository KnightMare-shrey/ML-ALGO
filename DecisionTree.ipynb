{
 "cells": [
  {
   "cell_type": "code",
   "execution_count": 2,
   "metadata": {},
   "outputs": [],
   "source": [
    "import numpy as np\n",
    "from collections import Counter"
   ]
  },
  {
   "cell_type": "code",
   "execution_count": 5,
   "metadata": {},
   "outputs": [
    {
     "name": "stdout",
     "output_type": "stream",
     "text": [
      "[0 3 1 1 1 1 0 1]\n",
      "nan\n"
     ]
    },
    {
     "name": "stderr",
     "output_type": "stream",
     "text": [
      "/var/folders/cc/9wx87yxd1l1g7q88nc0g_tg00000gn/T/ipykernel_1544/285912300.py:5: RuntimeWarning: divide by zero encountered in log2\n",
      "  return np.sum([-p*np.log2(p) for p in prob_list])\n",
      "/var/folders/cc/9wx87yxd1l1g7q88nc0g_tg00000gn/T/ipykernel_1544/285912300.py:5: RuntimeWarning: invalid value encountered in scalar multiply\n",
      "  return np.sum([-p*np.log2(p) for p in prob_list])\n"
     ]
    }
   ],
   "source": [
    "def entropy(x):\n",
    "    hist=np.bincount(x)\n",
    "    print(hist)\n",
    "    prob_list=hist/len(x)\n",
    "    return np.sum([-p*np.log2(p) for p in prob_list])\n",
    "\n",
    "# entropy defines randomness \n",
    "\n",
    "a=[1,2,1,1,3,4,5,7]\n",
    "res=entropy(a)\n",
    "print(res)\n"
   ]
  },
  {
   "cell_type": "code",
   "execution_count": 14,
   "metadata": {},
   "outputs": [
    {
     "name": "stdout",
     "output_type": "stream",
     "text": [
      "(5,)\n",
      "(3, 1) [[2]\n",
      " [3]\n",
      " [4]]\n",
      "(3,) [2 3 4]\n"
     ]
    }
   ],
   "source": [
    "a=[1,2,3,4,5]\n",
    "a=np.array(a)\n",
    "print(a.shape)\n",
    "# column vector\n",
    "res=np.argwhere(a>=3)\n",
    "print(res.shape,res)\n",
    "nres=res.flatten()\n",
    "print(nres.shape,nres)\n",
    "\n",
    "\n",
    "# returns the indices with given condition "
   ]
  },
  {
   "cell_type": "code",
   "execution_count": 62,
   "metadata": {},
   "outputs": [],
   "source": [
    "def entropy(x):\n",
    "    hist=np.bincount(x)\n",
    "    host_prob_list=hist/len(x)\n",
    "    return -np.sum([p*np.log2(p) for p in host_prob_list])\n",
    "\n",
    "class Node():\n",
    "    def __init__(self,feature=None,threshold=None,left=None,right=None,*,value=None):\n",
    "        self.feature=feature\n",
    "        self.threshold=threshold\n",
    "        self.left=left\n",
    "        self.right=right\n",
    "        self.value=value\n",
    "\n",
    "    def is_leaf_node(self):\n",
    "        return self.value is not None\n",
    "\n",
    "class DecisionTree():\n",
    "    def __init__(self,max_depth=100,min_sample_split=2,n_feats=None):\n",
    "        self.max_depth=max_depth\n",
    "        self.min_sample_split=min_sample_split\n",
    "        self.n_feats=n_feats\n",
    "        self.root=None\n",
    "\n",
    "    def fit(self,x,y):\n",
    "        self.n_feats=x.shape[1] if not self.n_feats else min(x.shape[1],self.n_feats)\n",
    "        self.root=self._grow_tree(x,y)\n",
    "        \n",
    "\n",
    "    def _grow_tree(self,x,y,depth=0):\n",
    "        n_samples,n_features=x.shape\n",
    "        n_labels=len(np.unique(y))\n",
    "\n",
    "        if(n_labels==1 or depth==self.max_depth or n_samples<=self.min_sample_split):\n",
    "            leaf_value=self._most_common(y)\n",
    "            return Node(value=leaf_value)\n",
    "\n",
    "        feature_idx=np.random.choice(n_features,self.n_feats,replace=False)\n",
    "        best_feature_idx,best_threshold=self._best_split_index(x,y,feature_idx)\n",
    "        left_idx,right_idx=self._split_idx(x[:,best_feature_idx],best_threshold)\n",
    "        if len(left_idx) == 0 or len(right_idx) == 0:\n",
    "            leaf_value = self._most_common(y)\n",
    "            return Node(value=leaf_value)\n",
    "\n",
    "        left=self._grow_tree(x[left_idx,: ],y[left_idx],depth+1)\n",
    "        right=self._grow_tree(x[right_idx,: ],y[right_idx],depth+1)\n",
    "        return Node(best_feature_idx,best_threshold,left,right)\n",
    "\n",
    "    \n",
    "\n",
    "    def _most_common(self,x):\n",
    "        res= Counter(x).most_common(1)\n",
    "        return res[0][0]\n",
    "\n",
    "\n",
    "    def _best_split_index(self,x,y,feature_idx):\n",
    "        bestgain=-1\n",
    "        best_idx,best_threshold=None,None\n",
    "        for fidx in feature_idx:\n",
    "            x_col=x[:,fidx]\n",
    "            thresholds=np.unique(x_col)\n",
    "            for thresh in thresholds:\n",
    "                gain=self._information_gain(x_col,y,thresh)\n",
    "                if gain>bestgain:\n",
    "                    bestgain=gain\n",
    "                    best_idx=fidx\n",
    "                    best_threshold=thresh\n",
    "        return best_idx,best_threshold\n",
    "\n",
    "\n",
    "    def _information_gain(self,x,y,threshold):\n",
    "        parent_entropy=entropy(y)\n",
    "        left_idx,right_idx=self._split_idx(x,threshold)\n",
    "        if len(left_idx) == 0 or len(right_idx) == 0:\n",
    "            return 0\n",
    "        llen,rlen=len(left_idx),len(right_idx)\n",
    "        n=len(y)\n",
    "        child_entropy=(llen/n)*entropy(y[left_idx]) + (rlen/n)*entropy(y[right_idx])\n",
    "        return parent_entropy-child_entropy\n",
    "\n",
    "\n",
    "    def _split_idx(self,x,val):\n",
    "        left=np.argwhere(x<=val).flatten()\n",
    "        right=np.argwhere(x>val).flatten()\n",
    "        return left,right\n",
    "\n",
    "    def predict(self,x_test):\n",
    "        return np.array([self._traverse_tree(x,self.root) for x in x_test])\n",
    "\n",
    "    def _traverse_tree(self,x,node):\n",
    "        if node.is_leaf_node():\n",
    "            return node.value\n",
    "        if x[node.feature]<=node.threshold:\n",
    "            return self._traverse_tree(x,node.left)\n",
    "        return self._traverse_tree(x,node.right)\n"
   ]
  },
  {
   "cell_type": "code",
   "execution_count": 63,
   "metadata": {},
   "outputs": [],
   "source": [
    "import numpy as np\n",
    "from collections import Counter\n",
    "from sklearn import datasets\n",
    "from sklearn.model_selection import train_test_split\n"
   ]
  },
  {
   "cell_type": "code",
   "execution_count": 64,
   "metadata": {},
   "outputs": [],
   "source": [
    "data=datasets.load_breast_cancer()\n",
    "x,y=data.data,data.target\n",
    "\n",
    "x_train,x_test,y_train,y_test=train_test_split(x,y,test_size=0.2,random_state=1234)\n"
   ]
  },
  {
   "cell_type": "code",
   "execution_count": 65,
   "metadata": {},
   "outputs": [
    {
     "name": "stderr",
     "output_type": "stream",
     "text": [
      "/var/folders/cc/9wx87yxd1l1g7q88nc0g_tg00000gn/T/ipykernel_1544/2427416723.py:4: RuntimeWarning: divide by zero encountered in log2\n",
      "  return -np.sum([p*np.log2(p) for p in host_prob_list])\n",
      "/var/folders/cc/9wx87yxd1l1g7q88nc0g_tg00000gn/T/ipykernel_1544/2427416723.py:4: RuntimeWarning: invalid value encountered in scalar multiply\n",
      "  return -np.sum([p*np.log2(p) for p in host_prob_list])\n"
     ]
    }
   ],
   "source": [
    "clf=DecisionTree(max_depth=10)\n",
    "clf.fit(x_train,y_train)"
   ]
  },
  {
   "cell_type": "code",
   "execution_count": 66,
   "metadata": {},
   "outputs": [
    {
     "data": {
      "text/plain": [
       "array([1, 1, 0, 1, 1, 1, 0, 1, 0, 0, 0, 1, 1, 0, 1, 0, 1, 1, 1, 0, 1, 0,\n",
       "       0, 0, 0, 1, 1, 1, 1, 1, 1, 1, 0, 1, 1, 1, 1, 0, 1, 1, 0, 1, 0, 1,\n",
       "       1, 1, 1, 1, 0, 1, 1, 1, 1, 0, 0, 1, 1, 1, 1, 0, 0, 1, 1, 1, 1, 0,\n",
       "       0, 1, 1, 1, 1, 0, 1, 0, 1, 1, 1, 0, 1, 0, 1, 1, 1, 0, 0, 0, 0, 0,\n",
       "       1, 0, 1, 1, 1, 0, 0, 1, 1, 1, 1, 1, 0, 0, 1, 1, 0, 1, 1, 0, 0, 1,\n",
       "       0, 1, 1, 0])"
      ]
     },
     "execution_count": 66,
     "metadata": {},
     "output_type": "execute_result"
    }
   ],
   "source": [
    "clf.predict(x_test)"
   ]
  },
  {
   "cell_type": "code",
   "execution_count": 67,
   "metadata": {},
   "outputs": [],
   "source": [
    "acc=np.sum(clf.predict(x_test)==y_test)/len(y_test)"
   ]
  },
  {
   "cell_type": "code",
   "execution_count": 68,
   "metadata": {},
   "outputs": [
    {
     "data": {
      "text/plain": [
       "np.float64(0.9210526315789473)"
      ]
     },
     "execution_count": 68,
     "metadata": {},
     "output_type": "execute_result"
    }
   ],
   "source": [
    "acc"
   ]
  },
  {
   "cell_type": "code",
   "execution_count": null,
   "metadata": {},
   "outputs": [],
   "source": []
  }
 ],
 "metadata": {
  "kernelspec": {
   "display_name": "myenv",
   "language": "python",
   "name": "python3"
  },
  "language_info": {
   "codemirror_mode": {
    "name": "ipython",
    "version": 3
   },
   "file_extension": ".py",
   "mimetype": "text/x-python",
   "name": "python",
   "nbconvert_exporter": "python",
   "pygments_lexer": "ipython3",
   "version": "3.9.6"
  }
 },
 "nbformat": 4,
 "nbformat_minor": 2
}
