{
 "cells": [
  {
   "cell_type": "code",
   "execution_count": null,
   "metadata": {},
   "outputs": [],
   "source": [
    "class LogisticReg():\n",
    "    def __init__(self,lr=0.0001,n_iter=1000):\n",
    "        self.n_iter=n_iter\n",
    "        self.lr=lr\n",
    "        self.weights=None\n",
    "        self.bias=None\n",
    "\n",
    "    def fit(self,x,y):\n",
    "        n_samples,n_features=x.shape\n",
    "        self.weights=np.zeros(n_features)\n",
    "        self.bias=0\n",
    "\n",
    "        for _ in range(self.n_iter):\n",
    "            linearModel=np.dot(x,self.weights) + self.bias\n",
    "            y_pred=self._sigmoid(linearModel)\n",
    "            dw=(2/n_samples)*np.dot(x.T,(y_pred-y))\n",
    "            db=(2/n_samples)*np.sum(y_pred-y)\n",
    "            self.weights-=self.lr*dw\n",
    "            self.bias-=self.lr*db\n",
    "\n",
    "\n",
    "    def predict(self,x_test):\n",
    "        linearModel=np.dot(x_test,self.weights) + self.bias\n",
    "        y_pred=self._sigmoid(linearModel)\n",
    "        y_pred_class=[1 if i>0.5 else 0 for i in y_pred]\n",
    "        return y_pred_class\n",
    "\n",
    "\n",
    "    def _sigmoid(self,x):\n",
    "        return 1/(1+np.exp(-x))"
   ]
  }
 ],
 "metadata": {
  "language_info": {
   "name": "python"
  }
 },
 "nbformat": 4,
 "nbformat_minor": 2
}
