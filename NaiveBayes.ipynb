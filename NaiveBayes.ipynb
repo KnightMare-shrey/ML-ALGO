import numpy as np

class NaiveBayes():
    def __init__(self,):
        pass
    def fit(self,x,y):
        n_samples,n_features = x.shape
        self._classes=np.unique(y)
        n_classes=len(self._classes)

        self._mean=np.zeros((n_classes,n_features),dtype=np.float64)
        self._var=np.zeros((n_classes,n_features),dtype=np.float64)
        self._prior=np.zeros(n_classes,dtype=np.float64)

        for c in self._classes:
            x_c=x[c==y]
            self._mean[c,:]


    def _gaussian_probability(self, x, mean, var):
        exponent = np.exp(-((x - mean) ** 2) / (2 * var))
        return (1 / np.sqrt(2 * np.pi * var)) * exponent


    def predict(self,x_test):
        pass
