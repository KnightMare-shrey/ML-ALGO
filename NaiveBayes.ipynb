{
 "cells": [
  {
   "cell_type": "code",
   "execution_count": null,
   "metadata": {},
   "outputs": [],
   "source": [
    "import numpy as np\n",
    "\n",
    "class NaiveBayes():\n",
    "    def __init__(self,):\n",
    "        pass\n",
    "    def fit(self,x,y):\n",
    "        n_samples,n_features = x.shape\n",
    "        self._classes=np.unique(y)\n",
    "        n_classes=len(self._classes)\n",
    "\n",
    "        self._mean=np.zeros((n_classes,n_features),dtype=np.float64)\n",
    "        self._var=np.zeros((n_classes,n_features),dtype=np.float64)\n",
    "        self._prior=np.zeros(n_classes,dtype=np.float64)\n",
    "\n",
    "        for c in self._classes:\n",
    "            x_c=x[c==y]\n",
    "            self._mean[c,:]\n",
    "\n",
    "\n",
    "    def _gaussian_probability(self, x, mean, var):\n",
    "        exponent = np.exp(-((x - mean) ** 2) / (2 * var))\n",
    "        return (1 / np.sqrt(2 * np.pi * var)) * exponent\n",
    "\n",
    "\n",
    "    def predict(self,x_test):\n",
    "        pass"
   ]
  }
 ],
 "metadata": {
  "kernelspec": {
   "display_name": "myenv",
   "language": "python",
   "name": "python3"
  },
  "language_info": {
   "name": "python",
   "version": "3.9.6"
  }
 },
 "nbformat": 4,
 "nbformat_minor": 2
}
